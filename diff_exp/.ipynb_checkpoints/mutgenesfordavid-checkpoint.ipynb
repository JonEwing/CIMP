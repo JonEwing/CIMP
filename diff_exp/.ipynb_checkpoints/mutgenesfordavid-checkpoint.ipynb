{
 "cells": [
  {
   "cell_type": "code",
   "execution_count": null,
   "metadata": {},
   "outputs": [],
   "source": [
    "import pandas as pd\n",
    "from eutils import Client\n",
    "import time\n",
    "import os\n",
    "\n",
    "featdat = pd.read_csv(\"data/for_genes.txt\",index_col=0) # INPUT\n",
    "names = set([x.split(\"_\")[0] for x in featdat.index])\n",
    "entrezids = set()\n",
    "\n",
    "ec = Client(api_key=\"f7078150f88498b5a1d0ba56db5dcffc2908\")\n",
    "for gene in names:\n",
    "    esr = ec.esearch(db='gene',term=gene+'[PREF] AND Homo+sapiens[ORGN]')\n",
    "    if(len(esr.ids) == 1):\n",
    "        entrezids.add(str(esr.ids[0]))\n",
    "    elif(len(esr.ids) > 1):\n",
    "        #print(\"ALERT: multiple results found for\",gene,\" taking first\")\n",
    "        entrezids.add(str(esr.ids[0]))\n",
    "    else:\n",
    "        #print(\"ALERT: no results found for\",gene,\"Taking more general search...\")\n",
    "        esr = ec.esearch(db='gene',term=gene+' AND Homo+sapiens[ORGN]') # comment out for stricter results\n",
    "        if(len(esr.ids) > 1):\n",
    "            #print(\"ALERT 2: multiple results found for\",gene,\" taking first\")\n",
    "            entrezids.add(str(esr.ids[0]))\n",
    "        elif(len(esr.ids) == 0):\n",
    "            #print(\"ALERT 2: no results found for\",gene,\" skipping\")\n",
    "            continue\n",
    "        else:\n",
    "            #print(\"Success\")\n",
    "            entrezids.add(str(esr.ids[0]))\n",
    "    time.sleep(1) # pause to prevent exceeding API rate limit\n",
    "\n",
    "with open(\"david_out/davidforeground-mutations.txt\", 'w') as f: # OUTPUT\n",
    "    for item in entrezids:\n",
    "        f.write(\"%s\\n\" % item)\n",
    "f.close()\n",
    "\n",
    "featdat"
   ]
  },
  {
   "cell_type": "code",
   "execution_count": null,
   "metadata": {},
   "outputs": [],
   "source": [
    "maffolder = \"data/database_UCEC/\" # INPUT\n",
    "\n",
    "# import class data\n",
    "classtmp = pd.read_csv(\"data/cimp_classes.csv\", skiprows=1, index_col=0, header=None)\n",
    "classtmp.index = [x.replace('.','-') for x in classtmp.index]\n",
    "crcclasses = pd.concat([classtmp, pd.read_csv(\"data/cimp_classes.csv\", index_col=0, header=None)], axis=0)\n",
    "crcclasses = crcclasses[~crcclasses.index.duplicated(keep='first')] # drop duplicates\n",
    "crcclasses = crcclasses[(crcclasses[2] == \"CIMP+\")|(crcclasses[2] == \"CIMP-\")|(crcclasses[2] == \"CIMPi\")]\n",
    "\n",
    "backgroundentrezs = set()\n",
    "for maffile in os.listdir(maffolder):\n",
    "    if(maffile[-4:] == \".maf\"): # ensure it's a maf file\n",
    "        fullpath = maffolder + maffile\n",
    "        df = pd.read_csv(fullpath, sep='\\t', skiprows=5, dtype=str)\n",
    "        df[\"Tumor_Sample_Barcode\"] = [\"-\".join(x.split(\"-\")[:4])[:-1] for x in df[\"Tumor_Sample_Barcode\"]]\n",
    "        df = df[df[\"Tumor_Sample_Barcode\"].isin(crcclasses.index)]\n",
    "        backgroundentrezs.update(list(df[\"Entrez_Gene_Id\"]))\n",
    "with open(\"david_out/davidbackground-mutations.txt\", 'w') as f: # OUTPUT\n",
    "    for item in backgroundentrezs:\n",
    "        f.write(\"%s\\n\" % item)\n",
    "f.close()\n",
    "\n",
    "len(backgroundentrezs)"
   ]
  },
  {
   "cell_type": "code",
   "execution_count": null,
   "metadata": {},
   "outputs": [],
   "source": []
  }
 ],
 "metadata": {
  "kernelspec": {
   "display_name": "Python 3",
   "language": "python",
   "name": "python3"
  },
  "language_info": {
   "codemirror_mode": {
    "name": "ipython",
    "version": 3
   },
   "file_extension": ".py",
   "mimetype": "text/x-python",
   "name": "python",
   "nbconvert_exporter": "python",
   "pygments_lexer": "ipython3",
   "version": "3.8.5"
  }
 },
 "nbformat": 4,
 "nbformat_minor": 4
}
