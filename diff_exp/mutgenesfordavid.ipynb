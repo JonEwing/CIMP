{
 "cells": [
  {
   "cell_type": "code",
   "execution_count": 1,
   "metadata": {},
   "outputs": [
    {
     "name": "stderr",
     "output_type": "stream",
     "text": [
      "WARNING:eutils._internal.client:NCBI found 489 results, but we truncated the reply at 250 results; see https://github.com/biocommons/eutils/issues/124/\n"
     ]
    },
    {
     "data": {
      "text/html": [
       "<div>\n",
       "<style scoped>\n",
       "    .dataframe tbody tr th:only-of-type {\n",
       "        vertical-align: middle;\n",
       "    }\n",
       "\n",
       "    .dataframe tbody tr th {\n",
       "        vertical-align: top;\n",
       "    }\n",
       "\n",
       "    .dataframe thead th {\n",
       "        text-align: right;\n",
       "    }\n",
       "</style>\n",
       "<table border=\"1\" class=\"dataframe\">\n",
       "  <thead>\n",
       "    <tr style=\"text-align: right;\">\n",
       "      <th></th>\n",
       "    </tr>\n",
       "    <tr>\n",
       "      <th>CASP7</th>\n",
       "    </tr>\n",
       "  </thead>\n",
       "  <tbody>\n",
       "    <tr>\n",
       "      <th>CTNNA2</th>\n",
       "    </tr>\n",
       "    <tr>\n",
       "      <th>KPNB1</th>\n",
       "    </tr>\n",
       "    <tr>\n",
       "      <th>ZC3H18</th>\n",
       "    </tr>\n",
       "    <tr>\n",
       "      <th>LATS2</th>\n",
       "    </tr>\n",
       "    <tr>\n",
       "      <th>ANKRD13C</th>\n",
       "    </tr>\n",
       "    <tr>\n",
       "      <th>...</th>\n",
       "    </tr>\n",
       "    <tr>\n",
       "      <th>ZBTB20</th>\n",
       "    </tr>\n",
       "    <tr>\n",
       "      <th>FXR1</th>\n",
       "    </tr>\n",
       "    <tr>\n",
       "      <th>MEX3A</th>\n",
       "    </tr>\n",
       "    <tr>\n",
       "      <th>ZNF697</th>\n",
       "    </tr>\n",
       "    <tr>\n",
       "      <th>DENND6A</th>\n",
       "    </tr>\n",
       "  </tbody>\n",
       "</table>\n",
       "<p>581 rows × 0 columns</p>\n",
       "</div>"
      ],
      "text/plain": [
       "Empty DataFrame\n",
       "Columns: []\n",
       "Index: [CTNNA2, KPNB1, ZC3H18, LATS2, ANKRD13C, ZNF654, SEPHS1, ARFIP1, NFIA, LRRC4, ZMYM4, TSPAN5, PRPF40A, TMOD3, KRT28, JAK1, ATP2B2, MBD6, SATB1, BHLHE40, SVIL, SACS, ZFP37, TARDBP, INPPL1, NT5C3B, CD47, RAB8B, ZNF621, TPD52, ASH1L, TMEM64, DUT, TP63, PPIP5K2, FAM46A, UBTF, PLK2, ST8SIA4, EIF3J, ZFP91, SLC16A4, ZMIZ1, FAM19A2, NPTN, ELMO1, AMOT, TMEM185B, ZNF2, UBFD1, ILKAP, BTBD7, NRIP1, EBPL, GRM8, HOXC10, FOXP1, NFASC, ZNF148, SGMS1, GRHL3, NR2C2, FNDC3B, MAX, TOR3A, SYTL1, RALB, SREK1IP1, TNRC6B, PARK2, KCNMA1, XIST, DNAH7, HNRNPR, NCOR2, LMAN1, MSH3, POF1B, AP1S1, MXD1, GAB1, EBF1, HIVEP1, SLC35B4, CTD-2139B15.2, SMAD5, BTBD11, CELF2, FOXO4, SOX9, CD2AP, ELOVL6, CREBRF, CEP76, POU2F3, TIMP3, ATP2B1, PHF2, TNFSF11, PTCH1, ...]\n",
       "\n",
       "[581 rows x 0 columns]"
      ]
     },
     "execution_count": 1,
     "metadata": {},
     "output_type": "execute_result"
    }
   ],
   "source": [
    "import pandas as pd\n",
    "from eutils import Client\n",
    "import time\n",
    "import os\n",
    "\n",
    "featdat = pd.read_csv(\"data/for_genes.txt\",index_col=0) # INPUT\n",
    "names = set([x.split(\"_\")[0] for x in featdat.index])\n",
    "entrezids = set()\n",
    "\n",
    "ec = Client(api_key=\"f7078150f88498b5a1d0ba56db5dcffc2908\")\n",
    "for gene in names:\n",
    "    esr = ec.esearch(db='gene',term=gene+'[PREF] AND Homo+sapiens[ORGN]')\n",
    "    if(len(esr.ids) == 1):\n",
    "        entrezids.add(str(esr.ids[0]))\n",
    "    elif(len(esr.ids) > 1):\n",
    "        #print(\"ALERT: multiple results found for\",gene,\" taking first\")\n",
    "        entrezids.add(str(esr.ids[0]))\n",
    "    else:\n",
    "        #print(\"ALERT: no results found for\",gene,\"Taking more general search...\")\n",
    "        esr = ec.esearch(db='gene',term=gene+' AND Homo+sapiens[ORGN]') # comment out for stricter results\n",
    "        if(len(esr.ids) > 1):\n",
    "            #print(\"ALERT 2: multiple results found for\",gene,\" taking first\")\n",
    "            entrezids.add(str(esr.ids[0]))\n",
    "        elif(len(esr.ids) == 0):\n",
    "            #print(\"ALERT 2: no results found for\",gene,\" skipping\")\n",
    "            continue\n",
    "        else:\n",
    "            #print(\"Success\")\n",
    "            entrezids.add(str(esr.ids[0]))\n",
    "    time.sleep(1) # pause to prevent exceeding API rate limit\n",
    "\n",
    "with open(\"david_out/davidforeground-mutations.txt\", 'w') as f: # OUTPUT\n",
    "    for item in entrezids:\n",
    "        f.write(\"%s\\n\" % item)\n",
    "f.close()\n",
    "\n",
    "featdat"
   ]
  },
  {
   "cell_type": "code",
   "execution_count": 3,
   "metadata": {},
   "outputs": [
    {
     "data": {
      "text/plain": [
       "20531"
      ]
     },
     "execution_count": 3,
     "metadata": {},
     "output_type": "execute_result"
    }
   ],
   "source": [
    "maffolder = \"data/database_UCEC/\" # INPUT\n",
    "\n",
    "# import class data\n",
    "classtmp = pd.read_csv(\"data/cimp_classes.csv\", skiprows=1, index_col=0, header=None)\n",
    "classtmp.index = [x.replace('.','-') for x in classtmp.index]\n",
    "crcclasses = pd.concat([classtmp, pd.read_csv(\"data/cimp_classes.csv\", index_col=0, header=None)], axis=0)\n",
    "crcclasses = crcclasses[~crcclasses.index.duplicated(keep='first')] # drop duplicates\n",
    "crcclasses = crcclasses[(crcclasses[2] == \"CIMP+\")|(crcclasses[2] == \"CIMP-\")|(crcclasses[2] == \"CIMPi\")]\n",
    "\n",
    "backgroundentrezs = set()\n",
    "for maffile in os.listdir(maffolder):\n",
    "    if(maffile[-4:] == \".maf\"): # ensure it's a maf file\n",
    "        fullpath = maffolder + maffile\n",
    "        df = pd.read_csv(fullpath, sep='\\t', skiprows=5, dtype=str)\n",
    "        df[\"Tumor_Sample_Barcode\"] = [\"-\".join(x.split(\"-\")[:4])[:-1] for x in df[\"Tumor_Sample_Barcode\"]]\n",
    "        df = df[df[\"Tumor_Sample_Barcode\"].isin(crcclasses.index)]\n",
    "        backgroundentrezs.update(list(df[\"Entrez_Gene_Id\"]))\n",
    "with open(\"david_out/davidbackground-mutations.txt\", 'w') as f: # OUTPUT\n",
    "    for item in backgroundentrezs:\n",
    "        f.write(\"%s\\n\" % item)\n",
    "f.close()\n",
    "\n",
    "len(backgroundentrezs)"
   ]
  },
  {
   "cell_type": "code",
   "execution_count": null,
   "metadata": {},
   "outputs": [],
   "source": []
  }
 ],
 "metadata": {
  "kernelspec": {
   "display_name": "Python 3",
   "language": "python",
   "name": "python3"
  },
  "language_info": {
   "codemirror_mode": {
    "name": "ipython",
    "version": 3
   },
   "file_extension": ".py",
   "mimetype": "text/x-python",
   "name": "python",
   "nbconvert_exporter": "python",
   "pygments_lexer": "ipython3",
   "version": "3.8.5"
  }
 },
 "nbformat": 4,
 "nbformat_minor": 4
}
